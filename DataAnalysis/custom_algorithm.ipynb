{
 "cells": [
  {
   "cell_type": "code",
   "execution_count": 16,
   "metadata": {},
   "outputs": [
    {
     "name": "stdout",
     "output_type": "stream",
     "text": [
      "[[2. 1. 1. ... 1. 1. 1.]\n",
      " [1. 2. 3. ... 1. 1. 2.]\n",
      " [1. 2. 3. ... 1. 1. 3.]\n",
      " ...\n",
      " [1. 1. 1. ... 2. 3. 1.]\n",
      " [2. 2. 3. ... 1. 1. 3.]\n",
      " [2. 1. 1. ... 1. 1. 1.]]\n",
      "[[32, 14, 16, 23, 16, 16, 23, 31, 29, 27, 21, 15, 27, 15, 17, 15, 19, 21, 10, 15, 18, 20, 13, 17, 16, 15, 18, 16, 16, 15, 26, 17, 16, 27, 16, 22, 26, 16, 14, 17, 16, 17, 24], [32, 29, 16, 29, 29, 19, 15, 15, 16, 10, 30, 17, 29, 6, 26, 22, 14, 18, 25, 10, 25, 8, 6, 7, 6, 27, 27, 26, 8, 14, 6, 7, 17, 7, 10, 13, 27, 7, 6, 6, 25, 13], [32, 16, 32, 32, 20, 17, 15, 14, 8, 29, 16, 28, 8, 29, 21, 12, 17, 22, 8, 28, 10, 8, 7, 4, 26, 24, 23, 6, 16, 8, 5, 15, 5, 8, 13, 28, 7, 8, 6, 26, 13], [32, 16, 16, 20, 24, 24, 24, 16, 15, 20, 15, 9, 15, 19, 17, 9, 17, 13, 18, 13, 9, 8, 11, 18, 17, 18, 9, 17, 9, 10, 20, 12, 15, 17, 14, 8, 9, 7, 15, 21], [32, 32, 20, 17, 15, 14, 8, 29, 16, 28, 8, 29, 21, 12, 17, 22, 8, 28, 10, 8, 7, 4, 26, 24, 23, 6, 16, 8, 5, 15, 5, 8, 13, 28, 7, 8, 6, 26, 13], [32, 20, 17, 15, 14, 8, 29, 16, 28, 8, 29, 21, 12, 17, 22, 8, 28, 10, 8, 7, 4, 26, 24, 23, 6, 16, 8, 5, 15, 5, 8, 13, 28, 7, 8, 6, 26, 13], [32, 24, 22, 21, 15, 17, 23, 18, 17, 21, 17, 20, 10, 16, 16, 18, 13, 17, 16, 12, 15, 15, 16, 15, 25, 17, 14, 24, 13, 17, 20, 20, 17, 17, 15, 16, 21], [32, 28, 26, 20, 14, 26, 14, 17, 16, 18, 21, 9, 14, 17, 19, 13, 17, 16, 15, 17, 15, 15, 15, 25, 17, 16, 26, 16, 21, 25, 15, 14, 17, 15, 16, 23], [32, 30, 22, 16, 25, 16, 14, 14, 20, 22, 11, 16, 19, 19, 14, 14, 15, 16, 19, 17, 17, 14, 23, 14, 15, 26, 17, 21, 25, 17, 15, 14, 15, 18, 27], [32, 22, 17, 26, 17, 13, 13, 18, 22, 9, 16, 19, 17, 13, 13, 14, 16, 19, 17, 17, 15, 22, 13, 16, 26, 17, 21, 23, 16, 14, 13, 14, 16, 25], [32, 11, 20, 10, 16, 8, 13, 21, 12, 13, 22, 10, 16, 16, 18, 22, 12, 14, 14, 17, 17, 17, 20, 21, 22, 23, 21, 9, 18, 17, 19, 12, 21], [32, 18, 31, 6, 26, 22, 14, 18, 25, 11, 27, 8, 6, 7, 6, 29, 27, 26, 8, 15, 6, 7, 18, 7, 11, 14, 29, 7, 6, 7, 27, 14], [32, 19, 17, 15, 15, 23, 9, 16, 20, 15, 13, 17, 17, 17, 18, 17, 17, 18, 26, 17, 19, 28, 18, 23, 26, 17, 15, 17, 17, 15, 23], [32, 7, 27, 22, 15, 17, 24, 12, 27, 7, 7, 8, 7, 29, 26, 25, 9, 16, 7, 8, 19, 8, 12, 15, 30, 8, 7, 8, 26, 15], [32, 10, 4, 15, 12, 4, 13, 7, 24, 31, 29, 23, 4, 3, 3, 22, 19, 31, 27, 18, 24, 17, 15, 9, 28, 31, 26, 6, 14], [32, 20, 11, 15, 19, 9, 27, 8, 10, 9, 4, 24, 21, 20, 8, 17, 10, 7, 16, 5, 11, 12, 29, 9, 10, 8, 25, 14], [32, 12, 16, 27, 9, 25, 4, 4, 5, 7, 25, 27, 28, 5, 14, 4, 5, 16, 6, 11, 17, 23, 5, 4, 7, 24, 18], [32, 9, 15, 26, 12, 13, 15, 16, 19, 14, 14, 14, 20, 24, 15, 16, 25, 19, 22, 24, 13, 16, 15, 15, 13, 23], [32, 19, 9, 17, 15, 13, 14, 13, 17, 19, 18, 14, 8, 12, 12, 11, 14, 11, 10, 17, 14, 12, 15, 18, 10], [32, 12, 22, 6, 4, 5, 8, 24, 28, 29, 7, 14, 4, 5, 18, 7, 11, 16, 22, 6, 4, 7, 22, 16], [32, 9, 11, 13, 14, 17, 11, 11, 11, 20, 20, 13, 14, 22, 17, 25, 21, 10, 14, 13, 15, 10, 20], [32, 7, 7, 6, 4, 28, 24, 23, 5, 16, 7, 4, 17, 5, 10, 14, 28, 6, 7, 6, 27, 15], [32, 25, 25, 21, 5, 5, 5, 17, 13, 25, 23, 12, 24, 12, 11, 7, 24, 25, 20, 6, 14], [32, 30, 24, 4, 3, 3, 23, 19, 30, 28, 18, 25, 18, 15, 9, 27, 30, 27, 6, 14], [32, 24, 5, 4, 4, 24, 18, 30, 30, 19, 27, 19, 16, 10, 29, 30, 27, 7, 15], [32, 8, 9, 9, 21, 13, 22, 26, 17, 29, 19, 18, 5, 23, 22, 25, 6, 17], [32, 28, 27, 6, 13, 4, 7, 18, 9, 13, 16, 27, 5, 4, 5, 28, 16], [32, 31, 6, 13, 3, 6, 17, 8, 12, 17, 24, 4, 3, 6, 26, 17], [32, 6, 13, 3, 6, 17, 8, 12, 17, 23, 4, 3, 6, 25, 17], [32, 20, 22, 24, 20, 21, 21, 16, 9, 21, 22, 24, 6, 15], [32, 19, 16, 27, 13, 20, 24, 18, 16, 19, 19, 14, 23], [32, 28, 18, 25, 17, 15, 9, 29, 32, 25, 6, 14], [32, 19, 29, 21, 16, 8, 27, 28, 25, 7, 15], [32, 18, 25, 26, 19, 17, 18, 19, 17, 25], [32, 20, 17, 6, 26, 25, 22, 7, 16], [32, 23, 12, 16, 17, 19, 14, 22], [32, 15, 14, 15, 18, 17, 27], [32, 10, 9, 10, 28, 17], [32, 29, 24, 7, 15], [32, 25, 6, 14], [32, 7, 17], [32, 19], [32]]\n"
     ]
    }
   ],
   "source": [
    "# All\n",
    "import numpy as np\n",
    "import pandas as pd\n",
    "import csv\n",
    "\n",
    "\n",
    "def parse(path):\n",
    "    with open(path) as file_name:\n",
    "        array = np.loadtxt(file_name, delimiter=\",\")\n",
    "    return array\n",
    "\n",
    "\n",
    "def create_similarity_array(data):\n",
    "    similarity = []\n",
    "    for row in range(data.shape[0]):\n",
    "        similarityRow = []\n",
    "        for nextRow in range(row, data.shape[0]):\n",
    "            sim = 0\n",
    "            for col in range(data.shape[1]):\n",
    "                if data[nextRow, col] == data[row, col]:\n",
    "                    sim += 1\n",
    "            similarityRow.append(sim)\n",
    "        similarity.append(similarityRow)\n",
    "    return similarity\n",
    "\n",
    "\n",
    "def write(matrix, path):\n",
    "    # open the file in the write mode\n",
    "    with open(path, 'w', encoding='UTF8', newline='') as f:\n",
    "        writer = csv.writer(f)  # create the csv writer\n",
    "        writer.writerows(matrix)    # write a row to the csv file\n",
    "        f.close()  # close the file\n",
    "\n",
    "\n",
    "def main():\n",
    "    data = parse(\"drawn_color.csv\")\n",
    "    print(data)\n",
    "    matrix = create_similarity_array(data)\n",
    "    print(matrix)\n",
    "    write(matrix, \"responce.csv\")\n",
    "\n",
    "\n",
    "main()\n"
   ]
  },
  {
   "cell_type": "code",
   "execution_count": 3,
   "metadata": {},
   "outputs": [
    {
     "name": "stdout",
     "output_type": "stream",
     "text": [
      "[[2. 1. 1. ... 1. 1. 1.]\n",
      " [1. 2. 3. ... 1. 1. 2.]\n",
      " [1. 2. 3. ... 1. 1. 3.]\n",
      " ...\n",
      " [1. 1. 1. ... 2. 3. 1.]\n",
      " [2. 2. 3. ... 1. 1. 3.]\n",
      " [2. 1. 1. ... 1. 1. 1.]]\n",
      "[[5, 0, 0, 4, 0, 0, 0, 4, 5, 4, 4, 1, 2, 1, 0, 0, 5, 1, 2, 2, 2, 4, 0, 0, 0, 2, 4, 3, 3, 0, 1, 0, 1, 2, 2, 3, 3, 1, 0, 0, 1, 3, 3], [15, 12, 1, 12, 12, 2, 0, 1, 2, 3, 14, 2, 13, 0, 10, 9, 3, 11, 11, 3, 10, 2, 0, 1, 3, 13, 14, 13, 2, 0, 0, 2, 2, 3, 2, 2, 11, 1, 0, 1, 12, 1], [13, 0, 13, 13, 1, 0, 0, 0, 1, 13, 1, 12, 0, 11, 7, 1, 9, 8, 1, 11, 2, 0, 0, 1, 12, 11, 10, 0, 0, 0, 0, 0, 1, 0, 1, 11, 0, 0, 0, 12, 0], [12, 0, 0, 2, 4, 6, 6, 5, 1, 2, 1, 0, 0, 6, 3, 2, 4, 3, 3, 4, 0, 0, 4, 4, 4, 5, 1, 0, 0, 2, 2, 4, 3, 2, 0, 1, 0, 0, 2, 5], [13, 13, 1, 0, 0, 0, 1, 13, 1, 12, 0, 11, 7, 1, 9, 8, 1, 11, 2, 0, 0, 1, 12, 11, 10, 0, 0, 0, 0, 0, 1, 0, 1, 11, 0, 0, 0, 12, 0], [13, 1, 0, 0, 0, 1, 13, 1, 12, 0, 11, 7, 1, 9, 8, 1, 11, 2, 0, 0, 1, 12, 11, 10, 0, 0, 0, 0, 0, 1, 0, 1, 11, 0, 0, 0, 12, 0], [4, 0, 1, 1, 1, 1, 0, 1, 0, 1, 3, 1, 1, 2, 1, 1, 1, 0, 0, 1, 1, 2, 3, 0, 0, 0, 0, 0, 1, 0, 0, 1, 1, 0, 0, 1, 1], [4, 4, 3, 3, 0, 1, 0, 0, 0, 4, 1, 1, 1, 1, 3, 0, 0, 0, 2, 3, 2, 2, 0, 0, 0, 1, 1, 2, 2, 2, 0, 0, 0, 0, 2, 2], [8, 7, 6, 2, 2, 2, 0, 0, 6, 3, 3, 3, 4, 4, 2, 0, 1, 4, 5, 4, 4, 1, 1, 0, 2, 3, 4, 4, 4, 2, 2, 0, 2, 4, 6], [9, 6, 3, 3, 3, 0, 0, 5, 3, 2, 3, 4, 3, 2, 0, 1, 4, 5, 4, 4, 2, 1, 0, 3, 3, 4, 4, 3, 2, 2, 0, 2, 3, 5], [15, 4, 3, 3, 3, 1, 6, 5, 7, 6, 7, 3, 6, 3, 5, 9, 5, 7, 7, 4, 1, 4, 7, 4, 9, 7, 5, 2, 6, 4, 6, 5, 6], [16, 3, 15, 0, 11, 9, 3, 11, 11, 4, 12, 2, 0, 1, 3, 15, 14, 13, 2, 1, 0, 2, 3, 3, 3, 3, 13, 1, 0, 2, 14, 2], [5, 3, 0, 0, 2, 2, 2, 3, 3, 1, 1, 0, 0, 3, 4, 4, 4, 1, 1, 0, 2, 2, 3, 3, 3, 1, 0, 0, 1, 2, 2], [15, 0, 11, 9, 3, 10, 10, 4, 12, 1, 0, 1, 3, 15, 13, 12, 2, 1, 0, 2, 3, 3, 3, 3, 13, 1, 0, 2, 13, 2], [11, 0, 0, 1, 5, 0, 0, 0, 9, 10, 9, 9, 0, 0, 0, 5, 0, 10, 9, 0, 9, 0, 0, 0, 10, 10, 7, 0, 0], [12, 7, 0, 7, 6, 1, 11, 0, 0, 0, 0, 11, 9, 8, 0, 0, 0, 0, 0, 0, 1, 0, 11, 0, 0, 0, 11, 0], [18, 2, 10, 14, 3, 11, 0, 0, 1, 4, 12, 14, 15, 1, 1, 0, 2, 3, 3, 4, 5, 9, 1, 0, 3, 11, 5], [10, 3, 4, 8, 1, 3, 1, 2, 6, 4, 4, 4, 4, 2, 1, 3, 3, 6, 5, 4, 1, 3, 1, 1, 3, 4], [23, 13, 4, 9, 8, 6, 7, 9, 11, 14, 13, 8, 1, 5, 7, 3, 9, 4, 4, 9, 7, 5, 9, 11, 3], [18, 5, 8, 2, 0, 1, 5, 11, 15, 16, 2, 1, 0, 2, 4, 4, 4, 5, 8, 2, 0, 3, 10, 4], [14, 2, 2, 0, 1, 5, 5, 5, 5, 5, 2, 0, 2, 4, 5, 9, 5, 2, 2, 0, 2, 4, 5], [15, 0, 0, 0, 1, 14, 11, 10, 0, 1, 0, 0, 2, 1, 2, 2, 12, 0, 0, 1, 13, 2], [17, 10, 11, 11, 1, 2, 2, 6, 0, 10, 11, 0, 13, 1, 1, 0, 11, 10, 7, 1, 3], [11, 10, 10, 0, 0, 0, 6, 0, 9, 10, 0, 10, 1, 0, 0, 9, 9, 8, 0, 0], [12, 10, 1, 1, 1, 7, 0, 10, 12, 1, 12, 2, 1, 1, 11, 10, 8, 1, 1], [18, 5, 6, 6, 8, 0, 8, 12, 3, 15, 5, 5, 1, 10, 8, 11, 3, 5], [18, 15, 14, 2, 1, 0, 3, 4, 5, 5, 5, 13, 1, 0, 2, 15, 4], [19, 18, 2, 1, 0, 3, 4, 5, 5, 6, 11, 1, 0, 3, 14, 5], [19, 2, 1, 0, 3, 4, 5, 5, 6, 10, 1, 0, 3, 13, 5], [13, 1, 5, 8, 2, 8, 4, 1, 1, 6, 5, 7, 1, 1], [3, 0, 0, 1, 0, 1, 1, 1, 0, 0, 1, 1, 1], [11, 10, 0, 10, 0, 0, 0, 11, 11, 6, 0, 0], [14, 2, 14, 4, 2, 1, 11, 10, 8, 2, 2], [4, 3, 4, 3, 2, 1, 0, 2, 3, 3], [17, 5, 4, 1, 12, 10, 8, 3, 4], [11, 5, 2, 1, 0, 3, 5, 5], [8, 2, 1, 0, 3, 5, 6], [13, 1, 0, 2, 13, 2], [14, 11, 7, 1, 2], [11, 6, 0, 0], [13, 2, 3], [17, 5], [9]]\n",
      "[3, 4, 4, 4, 5, 5, 8, 8, 9, 9, 10, 11, 11, 11, 11, 11, 12, 12, 12, 13, 13, 13, 13, 13, 13, 14, 14, 14, 15, 15, 15, 15, 16, 17, 17, 17, 18, 18, 18, 18, 19, 19, 23]\n",
      "[1, 0, 0, 1, 0, 3, 0, 1, 0, 1, 1, 0, 0, 0, 0, 1, 0, 0, 1, 0, 0, 0, 0, 0, 1, 0, 0, 1, 0, 0, 0, 1, 1, 0, 0, 1, 0, 0, 0, 1, 0, 4]\n"
     ]
    },
    {
     "data": {
      "image/png": "[encoded data removed]",
      "text/plain": [
       "<Figure size 432x288 with 1 Axes>"
      ]
     },
     "metadata": {
      "needs_background": "light"
     },
     "output_type": "display_data"
    }
   ],
   "source": [
    "# Only green\n",
    "import numpy as np\n",
    "import pandas as pd\n",
    "import csv\n",
    "import matplotlib.pyplot as plt\n",
    "\n",
    "def parse(path):\n",
    "    with open(path) as file_name:\n",
    "        array = np.loadtxt(file_name, delimiter=\",\")\n",
    "    return array\n",
    "\n",
    "\n",
    "def create_similarity_array(data):\n",
    "    similarity = []\n",
    "    for row in range(data.shape[0]):\n",
    "        similarityRow = []\n",
    "        for nextRow in range(row, data.shape[0]):\n",
    "            sim = 0\n",
    "            for col in range(data.shape[1]):\n",
    "                if data[nextRow, col] == data[row, col] and data[row, col] != 1:\n",
    "                    sim += 1\n",
    "            similarityRow.append(sim)\n",
    "        similarity.append(similarityRow)\n",
    "    return similarity\n",
    "\n",
    "\n",
    "def write(matrix, path):\n",
    "    # open the file in the write mode\n",
    "    with open(path, 'w', encoding='UTF8', newline='') as f:\n",
    "        writer = csv.writer(f)  # create the csv writer\n",
    "        writer.writerows(matrix)    # write a row to the csv file\n",
    "        f.close()  # close the file\n",
    "\n",
    "\n",
    "def get_min_in_row(matrix):\n",
    "    result = []\n",
    "    for row in matrix:\n",
    "        result.append(row[0])\n",
    "\n",
    "    result.sort()\n",
    "    print(result)\n",
    "    diffs = []\n",
    "    for i in range(1, len(result)):\n",
    "        diffs.append(result[i]-result[i-1])\n",
    "    print(diffs)\n",
    "    plt.plot(list(set(result)))\n",
    "\n",
    "def main():\n",
    "    data = parse(\"drawn_color.csv\")\n",
    "    print(data)\n",
    "    matrix = create_similarity_array(data)\n",
    "    print(matrix)\n",
    "    #write(matrix, \"responce2.csv\")\n",
    "    get_min_in_row(matrix)\n",
    "\n",
    "\n",
    "main()\n"
   ]
  },
  {
   "cell_type": "code",
   "execution_count": null,
   "metadata": {},
   "outputs": [],
   "source": []
  }
 ],
 "metadata": {
  "interpreter": {
   "hash": "61c5f7c0a4d3b5c9e669baea997f844ec6393a66a2f01e6df26fc122b2e48a3d"
  },
  "kernelspec": {
   "display_name": "Python 3.7.6 ('base')",
   "language": "python",
   "name": "python3"
  },
  "language_info": {
   "codemirror_mode": {
    "name": "ipython",
    "version": 3
   },
   "file_extension": ".py",
   "mimetype": "text/x-python",
   "name": "python",
   "nbconvert_exporter": "python",
   "pygments_lexer": "ipython3",
   "version": "3.7.6"
  },
  "orig_nbformat": 4
 },
 "nbformat": 4,
 "nbformat_minor": 2
}
